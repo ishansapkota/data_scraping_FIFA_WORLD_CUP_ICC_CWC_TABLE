{
 "cells": [
  {
   "cell_type": "code",
   "execution_count": 38,
   "id": "a4bcdf89",
   "metadata": {
    "scrolled": false
   },
   "outputs": [],
   "source": [
    "from bs4 import BeautifulSoup\n",
    "import requests\n",
    "import pandas as pd\n",
    "\n",
    "URL = \"https://en.wikipedia.org/wiki/FIFA_World_Cup_records_and_statistics\"\n",
    "\n",
    "page = requests.get(URL)\n",
    "\n",
    "soup = BeautifulSoup(page.text,'html')\n",
    "\n",
    "beauty_page = soup.prettify()\n",
    "\n",
    "table_finder = soup.find_all('table',attrs={'class':'wikitable sortable'})\n",
    "\n",
    "#for all-time points table\n",
    "table_one = table_finder[1]\n",
    "\n",
    "table_one_title = table_one.find_all('th')\n",
    "\n",
    "cleaned_table_one_title = [title.text.strip() for title in table_title]\n",
    "\n",
    "cleaned_table_one_title[1],cleaned_table_one_title[2],cleaned_table_one_title[3] = 'Nation', 'Participation','Played'\n",
    "\n",
    "df1= pd.DataFrame(columns = cleaned_table_one_title)\n",
    "\n",
    "column_data_one = table.find_all('tr')\n",
    "\n",
    "for row in column_data_one[1:]:\n",
    "    row_data_one = row.find_all('td')\n",
    "    cleaned_row_data_one = [data.text.strip() for data in row_data_one]\n",
    "    length = len(df1)\n",
    "    df1.loc[length] = cleaned_row_data_one\n",
    "\n",
    "#for worldcup title winners table \n",
    "\n",
    "table_two = table_finder[6]\n",
    "\n",
    "table_two_title = table_two('th')\n",
    "\n",
    "cleaned_table_two = [title.text.strip() for title in table_two_title]\n",
    "\n",
    "df2 = pd.DataFrame(columns = cleaned_table_two)\n",
    "\n",
    "column_data_two = table_two('tr')\n",
    "\n",
    "for rows in column_data_two[1:]:\n",
    "    rows_data_two = rows.find_all('td')\n",
    "    cleaned_rows_data_two = [data.text.strip() for data in rows_data_two]\n",
    "    length2 = len(df2)\n",
    "    df2.loc[length2]=cleaned_rows_data_two\n",
    "\n",
    "merged_df = pd.merge(df1,df2,on='Nation')\n",
    "\n",
    "merged_df\n",
    "# column_to_delete = 'Runners-up'\n",
    "\n",
    "# modified_df = merged_df.drop(column_to_delete,axis=1)\n",
    "\n",
    "# modified_df\n",
    "\n",
    "merged_df.to_csv(\"worldcup_alltime_table.csv\",index=False)"
   ]
  },
  {
   "cell_type": "code",
   "execution_count": null,
   "id": "8bfef6bb",
   "metadata": {},
   "outputs": [],
   "source": []
  }
 ],
 "metadata": {
  "kernelspec": {
   "display_name": "Python 3 (ipykernel)",
   "language": "python",
   "name": "python3"
  },
  "language_info": {
   "codemirror_mode": {
    "name": "ipython",
    "version": 3
   },
   "file_extension": ".py",
   "mimetype": "text/x-python",
   "name": "python",
   "nbconvert_exporter": "python",
   "pygments_lexer": "ipython3",
   "version": "3.11.5"
  }
 },
 "nbformat": 4,
 "nbformat_minor": 5
}
